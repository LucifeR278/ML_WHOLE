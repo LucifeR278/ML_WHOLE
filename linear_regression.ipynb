{
 "cells": [
  {
   "cell_type": "code",
   "execution_count": 82,
   "metadata": {},
   "outputs": [],
   "source": [
    "import pandas as pd\n",
    "import matplotlib.pyplot as plt\n",
    "import numpy as np\n",
    "%matplotlib inline\n"
   ]
  },
  {
   "cell_type": "code",
   "execution_count": 83,
   "metadata": {},
   "outputs": [],
   "source": [
    "##REad the dataset\n",
    "df=pd.read_csv('height-weight.csv')"
   ]
  },
  {
   "cell_type": "code",
   "execution_count": 84,
   "metadata": {},
   "outputs": [
    {
     "data": {
      "text/html": [
       "<div>\n",
       "<style scoped>\n",
       "    .dataframe tbody tr th:only-of-type {\n",
       "        vertical-align: middle;\n",
       "    }\n",
       "\n",
       "    .dataframe tbody tr th {\n",
       "        vertical-align: top;\n",
       "    }\n",
       "\n",
       "    .dataframe thead th {\n",
       "        text-align: right;\n",
       "    }\n",
       "</style>\n",
       "<table border=\"1\" class=\"dataframe\">\n",
       "  <thead>\n",
       "    <tr style=\"text-align: right;\">\n",
       "      <th></th>\n",
       "      <th>Weight</th>\n",
       "      <th>Height</th>\n",
       "    </tr>\n",
       "  </thead>\n",
       "  <tbody>\n",
       "    <tr>\n",
       "      <th>0</th>\n",
       "      <td>45</td>\n",
       "      <td>120</td>\n",
       "    </tr>\n",
       "    <tr>\n",
       "      <th>1</th>\n",
       "      <td>58</td>\n",
       "      <td>135</td>\n",
       "    </tr>\n",
       "    <tr>\n",
       "      <th>2</th>\n",
       "      <td>48</td>\n",
       "      <td>123</td>\n",
       "    </tr>\n",
       "    <tr>\n",
       "      <th>3</th>\n",
       "      <td>60</td>\n",
       "      <td>145</td>\n",
       "    </tr>\n",
       "    <tr>\n",
       "      <th>4</th>\n",
       "      <td>70</td>\n",
       "      <td>160</td>\n",
       "    </tr>\n",
       "  </tbody>\n",
       "</table>\n",
       "</div>"
      ],
      "text/plain": [
       "   Weight  Height\n",
       "0      45     120\n",
       "1      58     135\n",
       "2      48     123\n",
       "3      60     145\n",
       "4      70     160"
      ]
     },
     "execution_count": 84,
     "metadata": {},
     "output_type": "execute_result"
    }
   ],
   "source": [
    "df.head()"
   ]
  },
  {
   "cell_type": "code",
   "execution_count": 85,
   "metadata": {},
   "outputs": [
    {
     "data": {
      "text/plain": [
       "Text(0, 0.5, 'Height')"
      ]
     },
     "execution_count": 85,
     "metadata": {},
     "output_type": "execute_result"
    },
    {
     "data": {
      "image/png": "[encoded data removed]",
      "text/plain": [
       "<Figure size 640x480 with 1 Axes>"
      ]
     },
     "metadata": {},
     "output_type": "display_data"
    }
   ],
   "source": [
    "## scatter plot\n",
    "\n",
    "plt.scatter(df['Weight'],df['Height'])\n",
    "plt.xlabel(\"Weight\")\n",
    "plt.ylabel(\"Height\")"
   ]
  },
  {
   "cell_type": "code",
   "execution_count": 86,
   "metadata": {},
   "outputs": [
    {
     "data": {
      "text/html": [
       "<div>\n",
       "<style scoped>\n",
       "    .dataframe tbody tr th:only-of-type {\n",
       "        vertical-align: middle;\n",
       "    }\n",
       "\n",
       "    .dataframe tbody tr th {\n",
       "        vertical-align: top;\n",
       "    }\n",
       "\n",
       "    .dataframe thead th {\n",
       "        text-align: right;\n",
       "    }\n",
       "</style>\n",
       "<table border=\"1\" class=\"dataframe\">\n",
       "  <thead>\n",
       "    <tr style=\"text-align: right;\">\n",
       "      <th></th>\n",
       "      <th>Weight</th>\n",
       "      <th>Height</th>\n",
       "    </tr>\n",
       "  </thead>\n",
       "  <tbody>\n",
       "    <tr>\n",
       "      <th>Weight</th>\n",
       "      <td>1.000000</td>\n",
       "      <td>0.931142</td>\n",
       "    </tr>\n",
       "    <tr>\n",
       "      <th>Height</th>\n",
       "      <td>0.931142</td>\n",
       "      <td>1.000000</td>\n",
       "    </tr>\n",
       "  </tbody>\n",
       "</table>\n",
       "</div>"
      ],
      "text/plain": [
       "          Weight    Height\n",
       "Weight  1.000000  0.931142\n",
       "Height  0.931142  1.000000"
      ]
     },
     "execution_count": 86,
     "metadata": {},
     "output_type": "execute_result"
    }
   ],
   "source": [
    "## correlation\n",
    "df.corr()"
   ]
  },
  {
   "cell_type": "code",
   "execution_count": 7,
   "metadata": {},
   "outputs": [
    {
     "name": "stdout",
     "output_type": "stream",
     "text": [
      "Collecting seaborn\n",
      "  Downloading seaborn-0.13.2-py3-none-any.whl.metadata (5.4 kB)\n",
      "Requirement already satisfied: numpy!=1.24.0,>=1.20 in c:\\users\\ashish\\appdata\\roaming\\python\\python312\\site-packages (from seaborn) (1.26.3)\n",
      "Requirement already satisfied: pandas>=1.2 in c:\\users\\ashish\\appdata\\roaming\\python\\python312\\site-packages (from seaborn) (2.2.0)\n",
      "Requirement already satisfied: matplotlib!=3.6.1,>=3.4 in c:\\users\\ashish\\appdata\\roaming\\python\\python312\\site-packages (from seaborn) (3.8.4)\n",
      "Requirement already satisfied: contourpy>=1.0.1 in c:\\users\\ashish\\appdata\\roaming\\python\\python312\\site-packages (from matplotlib!=3.6.1,>=3.4->seaborn) (1.2.1)\n",
      "Requirement already satisfied: cycler>=0.10 in c:\\users\\ashish\\appdata\\roaming\\python\\python312\\site-packages (from matplotlib!=3.6.1,>=3.4->seaborn) (0.12.1)\n",
      "Requirement already satisfied: fonttools>=4.22.0 in c:\\users\\ashish\\appdata\\roaming\\python\\python312\\site-packages (from matplotlib!=3.6.1,>=3.4->seaborn) (4.51.0)\n",
      "Requirement already satisfied: kiwisolver>=1.3.1 in c:\\users\\ashish\\appdata\\roaming\\python\\python312\\site-packages (from matplotlib!=3.6.1,>=3.4->seaborn) (1.4.5)\n",
      "Requirement already satisfied: packaging>=20.0 in c:\\users\\ashish\\appdata\\roaming\\python\\python312\\site-packages (from matplotlib!=3.6.1,>=3.4->seaborn) (23.2)\n",
      "Requirement already satisfied: pillow>=8 in c:\\users\\ashish\\appdata\\roaming\\python\\python312\\site-packages (from matplotlib!=3.6.1,>=3.4->seaborn) (10.3.0)\n",
      "Requirement already satisfied: pyparsing>=2.3.1 in c:\\users\\ashish\\appdata\\roaming\\python\\python312\\site-packages (from matplotlib!=3.6.1,>=3.4->seaborn) (3.1.2)\n",
      "Requirement already satisfied: python-dateutil>=2.7 in c:\\users\\ashish\\appdata\\roaming\\python\\python312\\site-packages (from matplotlib!=3.6.1,>=3.4->seaborn) (2.8.2)\n",
      "Requirement already satisfied: pytz>=2020.1 in c:\\users\\ashish\\appdata\\roaming\\python\\python312\\site-packages (from pandas>=1.2->seaborn) (2023.4)\n",
      "Requirement already satisfied: tzdata>=2022.7 in c:\\users\\ashish\\appdata\\roaming\\python\\python312\\site-packages (from pandas>=1.2->seaborn) (2023.4)\n",
      "Requirement already satisfied: six>=1.5 in c:\\users\\ashish\\appdata\\roaming\\python\\python312\\site-packages (from python-dateutil>=2.7->matplotlib!=3.6.1,>=3.4->seaborn) (1.16.0)\n",
      "Downloading seaborn-0.13.2-py3-none-any.whl (294 kB)\n",
      "   ---------------------------------------- 0.0/294.9 kB ? eta -:--:--\n",
      "   - -------------------------------------- 10.2/294.9 kB ? eta -:--:--\n",
      "   ---- ---------------------------------- 30.7/294.9 kB 660.6 kB/s eta 0:00:01\n",
      "   --------------- ------------------------ 112.6/294.9 kB 1.1 MB/s eta 0:00:01\n",
      "   ------------------------------------ --- 266.2/294.9 kB 1.8 MB/s eta 0:00:01\n",
      "   ---------------------------------------- 294.9/294.9 kB 1.8 MB/s eta 0:00:00\n",
      "Installing collected packages: seaborn\n",
      "Successfully installed seaborn-0.13.2\n",
      "Note: you may need to restart the kernel to use updated packages.\n"
     ]
    }
   ],
   "source": [
    "pip install seaborn"
   ]
  },
  {
   "cell_type": "code",
   "execution_count": 8,
   "metadata": {},
   "outputs": [],
   "source": [
    "## seaborn for visualization\n",
    "import seaborn as sns\n"
   ]
  },
  {
   "cell_type": "code",
   "execution_count": 9,
   "metadata": {},
   "outputs": [
    {
     "data": {
      "text/plain": [
       "<seaborn.axisgrid.PairGrid at 0x238e07ea1b0>"
      ]
     },
     "execution_count": 9,
     "metadata": {},
     "output_type": "execute_result"
    },
    {
     "data": {
      "image/png": "[encoded data removed]",
      "text/plain": [
       "<Figure size 500x500 with 6 Axes>"
      ]
     },
     "metadata": {},
     "output_type": "display_data"
    }
   ],
   "source": [
    "sns.pairplot(df)"
   ]
  },
  {
   "cell_type": "code",
   "execution_count": 98,
   "metadata": {},
   "outputs": [
    {
     "data": {
      "text/plain": [
       "(23, 1)"
      ]
     },
     "execution_count": 98,
     "metadata": {},
     "output_type": "execute_result"
    }
   ],
   "source": [
    "## Independent and dependent features\n",
    " ### independt features should be data frame or 2 dimensional array\n",
    "\n",
    "X=df[['Weight']] # [[]] gives the dataframe instead of series\n",
    "np.array(x).shape"
   ]
  },
  {
   "cell_type": "code",
   "execution_count": 89,
   "metadata": {},
   "outputs": [],
   "source": [
    " #X_series=df['Weight']\n",
    " #np.array(X).shape # we will see why we dont use series for regression"
   ]
  },
  {
   "cell_type": "code",
   "execution_count": 99,
   "metadata": {},
   "outputs": [],
   "source": [
    "# Dependent features can be in series as we have only one dependent features\n",
    "y=df['Height'] ## this variable can be series or 1 d array"
   ]
  },
  {
   "cell_type": "code",
   "execution_count": 100,
   "metadata": {},
   "outputs": [
    {
     "data": {
      "text/plain": [
       "0    120\n",
       "1    135\n",
       "2    123\n",
       "3    145\n",
       "4    160\n",
       "Name: Height, dtype: int64"
      ]
     },
     "execution_count": 100,
     "metadata": {},
     "output_type": "execute_result"
    }
   ],
   "source": [
    "y.head()"
   ]
  },
  {
   "cell_type": "code",
   "execution_count": 24,
   "metadata": {},
   "outputs": [
    {
     "name": "stdout",
     "output_type": "stream",
     "text": [
      "Collecting scikit-learn\n",
      "  Downloading scikit_learn-1.5.0-cp312-cp312-win_amd64.whl.metadata (11 kB)\n",
      "Requirement already satisfied: numpy>=1.19.5 in c:\\users\\ashish\\appdata\\roaming\\python\\python312\\site-packages (from scikit-learn) (1.26.3)\n",
      "Requirement already satisfied: scipy>=1.6.0 in c:\\users\\ashish\\appdata\\roaming\\python\\python312\\site-packages (from scikit-learn) (1.13.0)\n",
      "Requirement already satisfied: joblib>=1.2.0 in c:\\users\\ashish\\appdata\\roaming\\python\\python312\\site-packages (from scikit-learn) (1.3.2)\n",
      "Collecting threadpoolctl>=3.1.0 (from scikit-learn)\n",
      "  Using cached threadpoolctl-3.5.0-py3-none-any.whl.metadata (13 kB)\n",
      "Downloading scikit_learn-1.5.0-cp312-cp312-win_amd64.whl (10.9 MB)\n",
      "   ---------------------------------------- 0.0/10.9 MB ? eta -:--:--\n",
      "   ---------------------------------------- 0.0/10.9 MB ? eta -:--:--\n",
      "   ---------------------------------------- 0.0/10.9 MB 495.5 kB/s eta 0:00:22\n",
      "   ---------------------------------------- 0.1/10.9 MB 939.4 kB/s eta 0:00:12\n",
      "    --------------------------------------- 0.2/10.9 MB 1.5 MB/s eta 0:00:08\n",
      "   - -------------------------------------- 0.4/10.9 MB 1.8 MB/s eta 0:00:06\n",
      "   - -------------------------------------- 0.5/10.9 MB 2.0 MB/s eta 0:00:06\n",
      "   -- ------------------------------------- 0.6/10.9 MB 2.0 MB/s eta 0:00:06\n",
      "   -- ------------------------------------- 0.6/10.9 MB 2.0 MB/s eta 0:00:06\n",
      "   -- ------------------------------------- 0.6/10.9 MB 2.0 MB/s eta 0:00:06\n",
      "   -- ------------------------------------- 0.7/10.9 MB 1.6 MB/s eta 0:00:07\n",
      "   --- ------------------------------------ 1.0/10.9 MB 2.0 MB/s eta 0:00:05\n",
      "   --- ------------------------------------ 1.0/10.9 MB 2.0 MB/s eta 0:00:05\n",
      "   --- ------------------------------------ 1.0/10.9 MB 2.0 MB/s eta 0:00:05\n",
      "   --- ------------------------------------ 1.0/10.9 MB 2.0 MB/s eta 0:00:05\n",
      "   ----- ---------------------------------- 1.5/10.9 MB 2.2 MB/s eta 0:00:05\n",
      "   ----- ---------------------------------- 1.5/10.9 MB 2.1 MB/s eta 0:00:05\n",
      "   ----- ---------------------------------- 1.5/10.9 MB 2.1 MB/s eta 0:00:05\n",
      "   ----- ---------------------------------- 1.6/10.9 MB 2.0 MB/s eta 0:00:05\n",
      "   ------ --------------------------------- 1.7/10.9 MB 2.1 MB/s eta 0:00:05\n",
      "   ------ --------------------------------- 1.8/10.9 MB 2.1 MB/s eta 0:00:05\n",
      "   ------- -------------------------------- 1.9/10.9 MB 2.1 MB/s eta 0:00:05\n",
      "   ------- -------------------------------- 2.0/10.9 MB 2.1 MB/s eta 0:00:05\n",
      "   ------- -------------------------------- 2.1/10.9 MB 2.1 MB/s eta 0:00:05\n",
      "   -------- ------------------------------- 2.3/10.9 MB 2.2 MB/s eta 0:00:05\n",
      "   -------- ------------------------------- 2.4/10.9 MB 2.2 MB/s eta 0:00:04\n",
      "   -------- ------------------------------- 2.5/10.9 MB 2.1 MB/s eta 0:00:04\n",
      "   --------- ------------------------------ 2.6/10.9 MB 2.2 MB/s eta 0:00:04\n",
      "   --------- ------------------------------ 2.7/10.9 MB 2.2 MB/s eta 0:00:04\n",
      "   ---------- ----------------------------- 2.8/10.9 MB 2.2 MB/s eta 0:00:04\n",
      "   ---------- ----------------------------- 2.9/10.9 MB 2.2 MB/s eta 0:00:04\n",
      "   ----------- ---------------------------- 3.0/10.9 MB 2.2 MB/s eta 0:00:04\n",
      "   ----------- ---------------------------- 3.0/10.9 MB 2.2 MB/s eta 0:00:04\n",
      "   ----------- ---------------------------- 3.0/10.9 MB 2.2 MB/s eta 0:00:04\n",
      "   ----------- ---------------------------- 3.1/10.9 MB 2.1 MB/s eta 0:00:04\n",
      "   ------------ --------------------------- 3.5/10.9 MB 2.2 MB/s eta 0:00:04\n",
      "   ------------- -------------------------- 3.6/10.9 MB 2.3 MB/s eta 0:00:04\n",
      "   ------------- -------------------------- 3.7/10.9 MB 2.3 MB/s eta 0:00:04\n",
      "   ------------- -------------------------- 3.8/10.9 MB 2.3 MB/s eta 0:00:04\n",
      "   -------------- ------------------------- 3.9/10.9 MB 2.3 MB/s eta 0:00:04\n",
      "   -------------- ------------------------- 4.0/10.9 MB 2.3 MB/s eta 0:00:04\n",
      "   --------------- ------------------------ 4.1/10.9 MB 2.3 MB/s eta 0:00:03\n",
      "   --------------- ------------------------ 4.2/10.9 MB 2.3 MB/s eta 0:00:03\n",
      "   --------------- ------------------------ 4.3/10.9 MB 2.3 MB/s eta 0:00:03\n",
      "   ---------------- ----------------------- 4.4/10.9 MB 2.3 MB/s eta 0:00:03\n",
      "   ---------------- ----------------------- 4.5/10.9 MB 2.3 MB/s eta 0:00:03\n",
      "   ---------------- ----------------------- 4.6/10.9 MB 2.3 MB/s eta 0:00:03\n",
      "   ----------------- ---------------------- 4.8/10.9 MB 2.3 MB/s eta 0:00:03\n",
      "   ----------------- ---------------------- 4.9/10.9 MB 2.3 MB/s eta 0:00:03\n",
      "   ------------------ --------------------- 5.0/10.9 MB 2.3 MB/s eta 0:00:03\n",
      "   ------------------ --------------------- 5.1/10.9 MB 2.3 MB/s eta 0:00:03\n",
      "   ------------------- -------------------- 5.2/10.9 MB 2.3 MB/s eta 0:00:03\n",
      "   ------------------- -------------------- 5.3/10.9 MB 2.3 MB/s eta 0:00:03\n",
      "   ------------------- -------------------- 5.5/10.9 MB 2.3 MB/s eta 0:00:03\n",
      "   -------------------- ------------------- 5.6/10.9 MB 2.3 MB/s eta 0:00:03\n",
      "   -------------------- ------------------- 5.7/10.9 MB 2.3 MB/s eta 0:00:03\n",
      "   --------------------- ------------------ 5.9/10.9 MB 2.3 MB/s eta 0:00:03\n",
      "   --------------------- ------------------ 5.9/10.9 MB 2.3 MB/s eta 0:00:03\n",
      "   ---------------------- ----------------- 6.1/10.9 MB 2.3 MB/s eta 0:00:03\n",
      "   ---------------------- ----------------- 6.1/10.9 MB 2.3 MB/s eta 0:00:03\n",
      "   ---------------------- ----------------- 6.2/10.9 MB 2.3 MB/s eta 0:00:03\n",
      "   ----------------------- ---------------- 6.4/10.9 MB 2.3 MB/s eta 0:00:02\n",
      "   ----------------------- ---------------- 6.5/10.9 MB 2.3 MB/s eta 0:00:02\n",
      "   ------------------------ --------------- 6.6/10.9 MB 2.4 MB/s eta 0:00:02\n",
      "   ------------------------ --------------- 6.7/10.9 MB 2.4 MB/s eta 0:00:02\n",
      "   ------------------------ --------------- 6.8/10.9 MB 2.4 MB/s eta 0:00:02\n",
      "   ------------------------- -------------- 6.9/10.9 MB 2.4 MB/s eta 0:00:02\n",
      "   ------------------------- -------------- 7.0/10.9 MB 2.4 MB/s eta 0:00:02\n",
      "   -------------------------- ------------- 7.1/10.9 MB 2.4 MB/s eta 0:00:02\n",
      "   -------------------------- ------------- 7.2/10.9 MB 2.4 MB/s eta 0:00:02\n",
      "   -------------------------- ------------- 7.4/10.9 MB 2.4 MB/s eta 0:00:02\n",
      "   --------------------------- ------------ 7.5/10.9 MB 2.4 MB/s eta 0:00:02\n",
      "   --------------------------- ------------ 7.6/10.9 MB 2.4 MB/s eta 0:00:02\n",
      "   ---------------------------- ----------- 7.7/10.9 MB 2.4 MB/s eta 0:00:02\n",
      "   ---------------------------- ----------- 7.8/10.9 MB 2.4 MB/s eta 0:00:02\n",
      "   ----------------------------- ---------- 7.9/10.9 MB 2.4 MB/s eta 0:00:02\n",
      "   ----------------------------- ---------- 8.0/10.9 MB 2.4 MB/s eta 0:00:02\n",
      "   ----------------------------- ---------- 8.2/10.9 MB 2.4 MB/s eta 0:00:02\n",
      "   ------------------------------ --------- 8.3/10.9 MB 2.4 MB/s eta 0:00:02\n",
      "   ------------------------------ --------- 8.4/10.9 MB 2.4 MB/s eta 0:00:02\n",
      "   ------------------------------- -------- 8.5/10.9 MB 2.4 MB/s eta 0:00:02\n",
      "   ------------------------------- -------- 8.6/10.9 MB 2.4 MB/s eta 0:00:01\n",
      "   ------------------------------- -------- 8.7/10.9 MB 2.4 MB/s eta 0:00:01\n",
      "   -------------------------------- ------- 8.8/10.9 MB 2.4 MB/s eta 0:00:01\n",
      "   -------------------------------- ------- 9.0/10.9 MB 2.4 MB/s eta 0:00:01\n",
      "   --------------------------------- ------ 9.1/10.9 MB 2.4 MB/s eta 0:00:01\n",
      "   --------------------------------- ------ 9.2/10.9 MB 2.4 MB/s eta 0:00:01\n",
      "   ---------------------------------- ----- 9.3/10.9 MB 2.4 MB/s eta 0:00:01\n",
      "   ---------------------------------- ----- 9.5/10.9 MB 2.4 MB/s eta 0:00:01\n",
      "   ---------------------------------- ----- 9.6/10.9 MB 2.4 MB/s eta 0:00:01\n",
      "   ----------------------------------- ---- 9.7/10.9 MB 2.4 MB/s eta 0:00:01\n",
      "   ----------------------------------- ---- 9.8/10.9 MB 2.4 MB/s eta 0:00:01\n",
      "   ------------------------------------ --- 9.9/10.9 MB 2.4 MB/s eta 0:00:01\n",
      "   ------------------------------------ --- 10.0/10.9 MB 2.4 MB/s eta 0:00:01\n",
      "   ------------------------------------ --- 10.1/10.9 MB 2.4 MB/s eta 0:00:01\n",
      "   ------------------------------------- -- 10.2/10.9 MB 2.4 MB/s eta 0:00:01\n",
      "   ------------------------------------- -- 10.4/10.9 MB 2.4 MB/s eta 0:00:01\n",
      "   -------------------------------------- - 10.5/10.9 MB 2.4 MB/s eta 0:00:01\n",
      "   -------------------------------------- - 10.6/10.9 MB 2.4 MB/s eta 0:00:01\n",
      "   ---------------------------------------  10.7/10.9 MB 2.4 MB/s eta 0:00:01\n",
      "   ---------------------------------------  10.9/10.9 MB 2.5 MB/s eta 0:00:01\n",
      "   ---------------------------------------  10.9/10.9 MB 2.5 MB/s eta 0:00:01\n",
      "   ---------------------------------------- 10.9/10.9 MB 2.5 MB/s eta 0:00:00\n",
      "Using cached threadpoolctl-3.5.0-py3-none-any.whl (18 kB)\n",
      "Installing collected packages: threadpoolctl, scikit-learn\n",
      "Successfully installed scikit-learn-1.5.0 threadpoolctl-3.5.0\n",
      "Note: you may need to restart the kernel to use updated packages.\n"
     ]
    }
   ],
   "source": [
    "pip install scikit-learn"
   ]
  },
  {
   "cell_type": "code",
   "execution_count": 92,
   "metadata": {},
   "outputs": [],
   "source": [
    "import sklearn"
   ]
  },
  {
   "cell_type": "code",
   "execution_count": 93,
   "metadata": {},
   "outputs": [],
   "source": [
    "## Train Test split\n",
    "from sklearn.model_selection import train_test_split"
   ]
  },
  {
   "cell_type": "code",
   "execution_count": 101,
   "metadata": {},
   "outputs": [],
   "source": [
    "X_train,X_test,y_train,y_test=train_test_split(X,y,test_size=0.20,random_state=42)"
   ]
  },
  {
   "cell_type": "code",
   "execution_count": 102,
   "metadata": {},
   "outputs": [
    {
     "data": {
      "text/plain": [
       "12    175\n",
       "1     135\n",
       "13    183\n",
       "5     162\n",
       "2     123\n",
       "11    182\n",
       "20    129\n",
       "3     145\n",
       "4     160\n",
       "18    150\n",
       "16    140\n",
       "21    140\n",
       "22    160\n",
       "7     175\n",
       "10    176\n",
       "14    170\n",
       "19    167\n",
       "6     163\n",
       "Name: Height, dtype: int64"
      ]
     },
     "execution_count": 102,
     "metadata": {},
     "output_type": "execute_result"
    }
   ],
   "source": [
    "y_train"
   ]
  },
  {
   "cell_type": "code",
   "execution_count": 103,
   "metadata": {},
   "outputs": [
    {
     "data": {
      "text/plain": [
       "15    177\n",
       "9     170\n",
       "0     120\n",
       "8     182\n",
       "17    159\n",
       "Name: Height, dtype: int64"
      ]
     },
     "execution_count": 103,
     "metadata": {},
     "output_type": "execute_result"
    }
   ],
   "source": [
    "y_test"
   ]
  },
  {
   "cell_type": "code",
   "execution_count": 104,
   "metadata": {},
   "outputs": [
    {
     "data": {
      "text/plain": [
       "(18, 1)"
      ]
     },
     "execution_count": 104,
     "metadata": {},
     "output_type": "execute_result"
    }
   ],
   "source": [
    "X_train.shape # 1 indicate the number of features currently we have one"
   ]
  },
  {
   "cell_type": "code",
   "execution_count": 105,
   "metadata": {},
   "outputs": [
    {
     "data": {
      "text/plain": [
       "(5, 1)"
      ]
     },
     "execution_count": 105,
     "metadata": {},
     "output_type": "execute_result"
    }
   ],
   "source": [
    "X_test.shape"
   ]
  },
  {
   "cell_type": "code",
   "execution_count": 106,
   "metadata": {},
   "outputs": [],
   "source": [
    "## Standardization (generally applied only on independent features)\n",
    "from sklearn.preprocessing import StandardScaler\n",
    "\n",
    "\n",
    "\n"
   ]
  },
  {
   "cell_type": "code",
   "execution_count": 107,
   "metadata": {},
   "outputs": [],
   "source": [
    "scaler=StandardScaler()\n",
    "X_train=scaler.fit_transform(X_train)"
   ]
  },
  {
   "cell_type": "code",
   "execution_count": 108,
   "metadata": {},
   "outputs": [],
   "source": [
    "X_test=scaler.transform(X_test) # here we use transform method instead of fit_transform because want to prevent data leakage\n",
    "# here the mean and standard deviation is used of the X_test to calculate z score"
   ]
  },
  {
   "cell_type": "code",
   "execution_count": 109,
   "metadata": {},
   "outputs": [],
   "source": [
    "## Apply Simple Linear Regression\n",
    "from sklearn.linear_model import LinearRegression"
   ]
  },
  {
   "cell_type": "code",
   "execution_count": 110,
   "metadata": {},
   "outputs": [],
   "source": [
    "regression=LinearRegression() #n_jobs=-1 means runs all the processor for this \n"
   ]
  },
  {
   "cell_type": "code",
   "execution_count": 46,
   "metadata": {},
   "outputs": [
    {
     "ename": "ValueError",
     "evalue": "Expected a 2-dimensional container but got <class 'pandas.core.series.Series'> instead. Pass a DataFrame containing a single row (i.e. single sample) or a single column (i.e. single feature) instead.",
     "output_type": "error",
     "traceback": [
      "\u001b[1;31m---------------------------------------------------------------------------\u001b[0m",
      "\u001b[1;31mValueError\u001b[0m                                Traceback (most recent call last)",
      "Cell \u001b[1;32mIn[46], line 1\u001b[0m\n\u001b[1;32m----> 1\u001b[0m \u001b[43mregression\u001b[49m\u001b[38;5;241;43m.\u001b[39;49m\u001b[43mfit\u001b[49m\u001b[43m(\u001b[49m\u001b[43mX_series\u001b[49m\u001b[43m,\u001b[49m\u001b[43my_train\u001b[49m\u001b[43m)\u001b[49m \u001b[38;5;66;03m# see the error\u001b[39;00m\n",
      "File \u001b[1;32md:\\ML_WHOLE\\myVenv\\Lib\\site-packages\\sklearn\\base.py:1473\u001b[0m, in \u001b[0;36m_fit_context.<locals>.decorator.<locals>.wrapper\u001b[1;34m(estimator, *args, **kwargs)\u001b[0m\n\u001b[0;32m   1466\u001b[0m     estimator\u001b[38;5;241m.\u001b[39m_validate_params()\n\u001b[0;32m   1468\u001b[0m \u001b[38;5;28;01mwith\u001b[39;00m config_context(\n\u001b[0;32m   1469\u001b[0m     skip_parameter_validation\u001b[38;5;241m=\u001b[39m(\n\u001b[0;32m   1470\u001b[0m         prefer_skip_nested_validation \u001b[38;5;129;01mor\u001b[39;00m global_skip_validation\n\u001b[0;32m   1471\u001b[0m     )\n\u001b[0;32m   1472\u001b[0m ):\n\u001b[1;32m-> 1473\u001b[0m     \u001b[38;5;28;01mreturn\u001b[39;00m \u001b[43mfit_method\u001b[49m\u001b[43m(\u001b[49m\u001b[43mestimator\u001b[49m\u001b[43m,\u001b[49m\u001b[43m \u001b[49m\u001b[38;5;241;43m*\u001b[39;49m\u001b[43margs\u001b[49m\u001b[43m,\u001b[49m\u001b[43m \u001b[49m\u001b[38;5;241;43m*\u001b[39;49m\u001b[38;5;241;43m*\u001b[39;49m\u001b[43mkwargs\u001b[49m\u001b[43m)\u001b[49m\n",
      "File \u001b[1;32md:\\ML_WHOLE\\myVenv\\Lib\\site-packages\\sklearn\\linear_model\\_base.py:609\u001b[0m, in \u001b[0;36mLinearRegression.fit\u001b[1;34m(self, X, y, sample_weight)\u001b[0m\n\u001b[0;32m    605\u001b[0m n_jobs_ \u001b[38;5;241m=\u001b[39m \u001b[38;5;28mself\u001b[39m\u001b[38;5;241m.\u001b[39mn_jobs\n\u001b[0;32m    607\u001b[0m accept_sparse \u001b[38;5;241m=\u001b[39m \u001b[38;5;28;01mFalse\u001b[39;00m \u001b[38;5;28;01mif\u001b[39;00m \u001b[38;5;28mself\u001b[39m\u001b[38;5;241m.\u001b[39mpositive \u001b[38;5;28;01melse\u001b[39;00m [\u001b[38;5;124m\"\u001b[39m\u001b[38;5;124mcsr\u001b[39m\u001b[38;5;124m\"\u001b[39m, \u001b[38;5;124m\"\u001b[39m\u001b[38;5;124mcsc\u001b[39m\u001b[38;5;124m\"\u001b[39m, \u001b[38;5;124m\"\u001b[39m\u001b[38;5;124mcoo\u001b[39m\u001b[38;5;124m\"\u001b[39m]\n\u001b[1;32m--> 609\u001b[0m X, y \u001b[38;5;241m=\u001b[39m \u001b[38;5;28;43mself\u001b[39;49m\u001b[38;5;241;43m.\u001b[39;49m\u001b[43m_validate_data\u001b[49m\u001b[43m(\u001b[49m\n\u001b[0;32m    610\u001b[0m \u001b[43m    \u001b[49m\u001b[43mX\u001b[49m\u001b[43m,\u001b[49m\u001b[43m \u001b[49m\u001b[43my\u001b[49m\u001b[43m,\u001b[49m\u001b[43m \u001b[49m\u001b[43maccept_sparse\u001b[49m\u001b[38;5;241;43m=\u001b[39;49m\u001b[43maccept_sparse\u001b[49m\u001b[43m,\u001b[49m\u001b[43m \u001b[49m\u001b[43my_numeric\u001b[49m\u001b[38;5;241;43m=\u001b[39;49m\u001b[38;5;28;43;01mTrue\u001b[39;49;00m\u001b[43m,\u001b[49m\u001b[43m \u001b[49m\u001b[43mmulti_output\u001b[49m\u001b[38;5;241;43m=\u001b[39;49m\u001b[38;5;28;43;01mTrue\u001b[39;49;00m\n\u001b[0;32m    611\u001b[0m \u001b[43m\u001b[49m\u001b[43m)\u001b[49m\n\u001b[0;32m    613\u001b[0m has_sw \u001b[38;5;241m=\u001b[39m sample_weight \u001b[38;5;129;01mis\u001b[39;00m \u001b[38;5;129;01mnot\u001b[39;00m \u001b[38;5;28;01mNone\u001b[39;00m\n\u001b[0;32m    614\u001b[0m \u001b[38;5;28;01mif\u001b[39;00m has_sw:\n",
      "File \u001b[1;32md:\\ML_WHOLE\\myVenv\\Lib\\site-packages\\sklearn\\base.py:650\u001b[0m, in \u001b[0;36mBaseEstimator._validate_data\u001b[1;34m(self, X, y, reset, validate_separately, cast_to_ndarray, **check_params)\u001b[0m\n\u001b[0;32m    648\u001b[0m         y \u001b[38;5;241m=\u001b[39m check_array(y, input_name\u001b[38;5;241m=\u001b[39m\u001b[38;5;124m\"\u001b[39m\u001b[38;5;124my\u001b[39m\u001b[38;5;124m\"\u001b[39m, \u001b[38;5;241m*\u001b[39m\u001b[38;5;241m*\u001b[39mcheck_y_params)\n\u001b[0;32m    649\u001b[0m     \u001b[38;5;28;01melse\u001b[39;00m:\n\u001b[1;32m--> 650\u001b[0m         X, y \u001b[38;5;241m=\u001b[39m \u001b[43mcheck_X_y\u001b[49m\u001b[43m(\u001b[49m\u001b[43mX\u001b[49m\u001b[43m,\u001b[49m\u001b[43m \u001b[49m\u001b[43my\u001b[49m\u001b[43m,\u001b[49m\u001b[43m \u001b[49m\u001b[38;5;241;43m*\u001b[39;49m\u001b[38;5;241;43m*\u001b[39;49m\u001b[43mcheck_params\u001b[49m\u001b[43m)\u001b[49m\n\u001b[0;32m    651\u001b[0m     out \u001b[38;5;241m=\u001b[39m X, y\n\u001b[0;32m    653\u001b[0m \u001b[38;5;28;01mif\u001b[39;00m \u001b[38;5;129;01mnot\u001b[39;00m no_val_X \u001b[38;5;129;01mand\u001b[39;00m check_params\u001b[38;5;241m.\u001b[39mget(\u001b[38;5;124m\"\u001b[39m\u001b[38;5;124mensure_2d\u001b[39m\u001b[38;5;124m\"\u001b[39m, \u001b[38;5;28;01mTrue\u001b[39;00m):\n",
      "File \u001b[1;32md:\\ML_WHOLE\\myVenv\\Lib\\site-packages\\sklearn\\utils\\validation.py:1273\u001b[0m, in \u001b[0;36mcheck_X_y\u001b[1;34m(X, y, accept_sparse, accept_large_sparse, dtype, order, copy, force_all_finite, ensure_2d, allow_nd, multi_output, ensure_min_samples, ensure_min_features, y_numeric, estimator)\u001b[0m\n\u001b[0;32m   1268\u001b[0m         estimator_name \u001b[38;5;241m=\u001b[39m _check_estimator_name(estimator)\n\u001b[0;32m   1269\u001b[0m     \u001b[38;5;28;01mraise\u001b[39;00m \u001b[38;5;167;01mValueError\u001b[39;00m(\n\u001b[0;32m   1270\u001b[0m         \u001b[38;5;124mf\u001b[39m\u001b[38;5;124m\"\u001b[39m\u001b[38;5;132;01m{\u001b[39;00mestimator_name\u001b[38;5;132;01m}\u001b[39;00m\u001b[38;5;124m requires y to be passed, but the target y is None\u001b[39m\u001b[38;5;124m\"\u001b[39m\n\u001b[0;32m   1271\u001b[0m     )\n\u001b[1;32m-> 1273\u001b[0m X \u001b[38;5;241m=\u001b[39m \u001b[43mcheck_array\u001b[49m\u001b[43m(\u001b[49m\n\u001b[0;32m   1274\u001b[0m \u001b[43m    \u001b[49m\u001b[43mX\u001b[49m\u001b[43m,\u001b[49m\n\u001b[0;32m   1275\u001b[0m \u001b[43m    \u001b[49m\u001b[43maccept_sparse\u001b[49m\u001b[38;5;241;43m=\u001b[39;49m\u001b[43maccept_sparse\u001b[49m\u001b[43m,\u001b[49m\n\u001b[0;32m   1276\u001b[0m \u001b[43m    \u001b[49m\u001b[43maccept_large_sparse\u001b[49m\u001b[38;5;241;43m=\u001b[39;49m\u001b[43maccept_large_sparse\u001b[49m\u001b[43m,\u001b[49m\n\u001b[0;32m   1277\u001b[0m \u001b[43m    \u001b[49m\u001b[43mdtype\u001b[49m\u001b[38;5;241;43m=\u001b[39;49m\u001b[43mdtype\u001b[49m\u001b[43m,\u001b[49m\n\u001b[0;32m   1278\u001b[0m \u001b[43m    \u001b[49m\u001b[43morder\u001b[49m\u001b[38;5;241;43m=\u001b[39;49m\u001b[43morder\u001b[49m\u001b[43m,\u001b[49m\n\u001b[0;32m   1279\u001b[0m \u001b[43m    \u001b[49m\u001b[43mcopy\u001b[49m\u001b[38;5;241;43m=\u001b[39;49m\u001b[43mcopy\u001b[49m\u001b[43m,\u001b[49m\n\u001b[0;32m   1280\u001b[0m \u001b[43m    \u001b[49m\u001b[43mforce_all_finite\u001b[49m\u001b[38;5;241;43m=\u001b[39;49m\u001b[43mforce_all_finite\u001b[49m\u001b[43m,\u001b[49m\n\u001b[0;32m   1281\u001b[0m \u001b[43m    \u001b[49m\u001b[43mensure_2d\u001b[49m\u001b[38;5;241;43m=\u001b[39;49m\u001b[43mensure_2d\u001b[49m\u001b[43m,\u001b[49m\n\u001b[0;32m   1282\u001b[0m \u001b[43m    \u001b[49m\u001b[43mallow_nd\u001b[49m\u001b[38;5;241;43m=\u001b[39;49m\u001b[43mallow_nd\u001b[49m\u001b[43m,\u001b[49m\n\u001b[0;32m   1283\u001b[0m \u001b[43m    \u001b[49m\u001b[43mensure_min_samples\u001b[49m\u001b[38;5;241;43m=\u001b[39;49m\u001b[43mensure_min_samples\u001b[49m\u001b[43m,\u001b[49m\n\u001b[0;32m   1284\u001b[0m \u001b[43m    \u001b[49m\u001b[43mensure_min_features\u001b[49m\u001b[38;5;241;43m=\u001b[39;49m\u001b[43mensure_min_features\u001b[49m\u001b[43m,\u001b[49m\n\u001b[0;32m   1285\u001b[0m \u001b[43m    \u001b[49m\u001b[43mestimator\u001b[49m\u001b[38;5;241;43m=\u001b[39;49m\u001b[43mestimator\u001b[49m\u001b[43m,\u001b[49m\n\u001b[0;32m   1286\u001b[0m \u001b[43m    \u001b[49m\u001b[43minput_name\u001b[49m\u001b[38;5;241;43m=\u001b[39;49m\u001b[38;5;124;43m\"\u001b[39;49m\u001b[38;5;124;43mX\u001b[39;49m\u001b[38;5;124;43m\"\u001b[39;49m\u001b[43m,\u001b[49m\n\u001b[0;32m   1287\u001b[0m \u001b[43m\u001b[49m\u001b[43m)\u001b[49m\n\u001b[0;32m   1289\u001b[0m y \u001b[38;5;241m=\u001b[39m _check_y(y, multi_output\u001b[38;5;241m=\u001b[39mmulti_output, y_numeric\u001b[38;5;241m=\u001b[39my_numeric, estimator\u001b[38;5;241m=\u001b[39mestimator)\n\u001b[0;32m   1291\u001b[0m check_consistent_length(X, y)\n",
      "File \u001b[1;32md:\\ML_WHOLE\\myVenv\\Lib\\site-packages\\sklearn\\utils\\validation.py:1045\u001b[0m, in \u001b[0;36mcheck_array\u001b[1;34m(array, accept_sparse, accept_large_sparse, dtype, order, copy, force_all_finite, ensure_2d, allow_nd, ensure_min_samples, ensure_min_features, estimator, input_name)\u001b[0m\n\u001b[0;32m   1038\u001b[0m         \u001b[38;5;28;01melse\u001b[39;00m:\n\u001b[0;32m   1039\u001b[0m             msg \u001b[38;5;241m=\u001b[39m (\n\u001b[0;32m   1040\u001b[0m                 \u001b[38;5;124mf\u001b[39m\u001b[38;5;124m\"\u001b[39m\u001b[38;5;124mExpected 2D array, got 1D array instead:\u001b[39m\u001b[38;5;130;01m\\n\u001b[39;00m\u001b[38;5;124marray=\u001b[39m\u001b[38;5;132;01m{\u001b[39;00marray\u001b[38;5;132;01m}\u001b[39;00m\u001b[38;5;124m.\u001b[39m\u001b[38;5;130;01m\\n\u001b[39;00m\u001b[38;5;124m\"\u001b[39m\n\u001b[0;32m   1041\u001b[0m                 \u001b[38;5;124m\"\u001b[39m\u001b[38;5;124mReshape your data either using array.reshape(-1, 1) if \u001b[39m\u001b[38;5;124m\"\u001b[39m\n\u001b[0;32m   1042\u001b[0m                 \u001b[38;5;124m\"\u001b[39m\u001b[38;5;124myour data has a single feature or array.reshape(1, -1) \u001b[39m\u001b[38;5;124m\"\u001b[39m\n\u001b[0;32m   1043\u001b[0m                 \u001b[38;5;124m\"\u001b[39m\u001b[38;5;124mif it contains a single sample.\u001b[39m\u001b[38;5;124m\"\u001b[39m\n\u001b[0;32m   1044\u001b[0m             )\n\u001b[1;32m-> 1045\u001b[0m         \u001b[38;5;28;01mraise\u001b[39;00m \u001b[38;5;167;01mValueError\u001b[39;00m(msg)\n\u001b[0;32m   1047\u001b[0m \u001b[38;5;28;01mif\u001b[39;00m dtype_numeric \u001b[38;5;129;01mand\u001b[39;00m \u001b[38;5;28mhasattr\u001b[39m(array\u001b[38;5;241m.\u001b[39mdtype, \u001b[38;5;124m\"\u001b[39m\u001b[38;5;124mkind\u001b[39m\u001b[38;5;124m\"\u001b[39m) \u001b[38;5;129;01mand\u001b[39;00m array\u001b[38;5;241m.\u001b[39mdtype\u001b[38;5;241m.\u001b[39mkind \u001b[38;5;129;01min\u001b[39;00m \u001b[38;5;124m\"\u001b[39m\u001b[38;5;124mUSV\u001b[39m\u001b[38;5;124m\"\u001b[39m:\n\u001b[0;32m   1048\u001b[0m     \u001b[38;5;28;01mraise\u001b[39;00m \u001b[38;5;167;01mValueError\u001b[39;00m(\n\u001b[0;32m   1049\u001b[0m         \u001b[38;5;124m\"\u001b[39m\u001b[38;5;124mdtype=\u001b[39m\u001b[38;5;124m'\u001b[39m\u001b[38;5;124mnumeric\u001b[39m\u001b[38;5;124m'\u001b[39m\u001b[38;5;124m is not compatible with arrays of bytes/strings.\u001b[39m\u001b[38;5;124m\"\u001b[39m\n\u001b[0;32m   1050\u001b[0m         \u001b[38;5;124m\"\u001b[39m\u001b[38;5;124mConvert your data to numeric values explicitly instead.\u001b[39m\u001b[38;5;124m\"\u001b[39m\n\u001b[0;32m   1051\u001b[0m     )\n",
      "\u001b[1;31mValueError\u001b[0m: Expected a 2-dimensional container but got <class 'pandas.core.series.Series'> instead. Pass a DataFrame containing a single row (i.e. single sample) or a single column (i.e. single feature) instead."
     ]
    }
   ],
   "source": [
    "regression.fit(X_series,y_train) # see the error"
   ]
  },
  {
   "cell_type": "code",
   "execution_count": 111,
   "metadata": {},
   "outputs": [
    {
     "data": {
      "text/plain": [
       "numpy.ndarray"
      ]
     },
     "execution_count": 111,
     "metadata": {},
     "output_type": "execute_result"
    }
   ],
   "source": [
    "type(X_train)"
   ]
  },
  {
   "cell_type": "code",
   "execution_count": 112,
   "metadata": {},
   "outputs": [],
   "source": [
    "X_train=np.array(X_train).reshape(-1,1)\n",
    "X_test=np.array(X_test).reshape(-1,1)"
   ]
  },
  {
   "cell_type": "code",
   "execution_count": 113,
   "metadata": {},
   "outputs": [
    {
     "data": {
      "text/plain": [
       "(18, 1)"
      ]
     },
     "execution_count": 113,
     "metadata": {},
     "output_type": "execute_result"
    }
   ],
   "source": [
    "X_train.shape"
   ]
  },
  {
   "cell_type": "code",
   "execution_count": 114,
   "metadata": {},
   "outputs": [
    {
     "data": {
      "text/html": [
       "<style>#sk-container-id-4 {\n",
       "  /* Definition of color scheme common for light and dark mode */\n",
       "  --sklearn-color-text: black;\n",
       "  --sklearn-color-line: gray;\n",
       "  /* Definition of color scheme for unfitted estimators */\n",
       "  --sklearn-color-unfitted-level-0: #fff5e6;\n",
       "  --sklearn-color-unfitted-level-1: #f6e4d2;\n",
       "  --sklearn-color-unfitted-level-2: #ffe0b3;\n",
       "  --sklearn-color-unfitted-level-3: chocolate;\n",
       "  /* Definition of color scheme for fitted estimators */\n",
       "  --sklearn-color-fitted-level-0: #f0f8ff;\n",
       "  --sklearn-color-fitted-level-1: #d4ebff;\n",
       "  --sklearn-color-fitted-level-2: #b3dbfd;\n",
       "  --sklearn-color-fitted-level-3: cornflowerblue;\n",
       "\n",
       "  /* Specific color for light theme */\n",
       "  --sklearn-color-text-on-default-background: var(--sg-text-color, var(--theme-code-foreground, var(--jp-content-font-color1, black)));\n",
       "  --sklearn-color-background: var(--sg-background-color, var(--theme-background, var(--jp-layout-color0, white)));\n",
       "  --sklearn-color-border-box: var(--sg-text-color, var(--theme-code-foreground, var(--jp-content-font-color1, black)));\n",
       "  --sklearn-color-icon: #696969;\n",
       "\n",
       "  @media (prefers-color-scheme: dark) {\n",
       "    /* Redefinition of color scheme for dark theme */\n",
       "    --sklearn-color-text-on-default-background: var(--sg-text-color, var(--theme-code-foreground, var(--jp-content-font-color1, white)));\n",
       "    --sklearn-color-background: var(--sg-background-color, var(--theme-background, var(--jp-layout-color0, #111)));\n",
       "    --sklearn-color-border-box: var(--sg-text-color, var(--theme-code-foreground, var(--jp-content-font-color1, white)));\n",
       "    --sklearn-color-icon: #878787;\n",
       "  }\n",
       "}\n",
       "\n",
       "#sk-container-id-4 {\n",
       "  color: var(--sklearn-color-text);\n",
       "}\n",
       "\n",
       "#sk-container-id-4 pre {\n",
       "  padding: 0;\n",
       "}\n",
       "\n",
       "#sk-container-id-4 input.sk-hidden--visually {\n",
       "  border: 0;\n",
       "  clip: rect(1px 1px 1px 1px);\n",
       "  clip: rect(1px, 1px, 1px, 1px);\n",
       "  height: 1px;\n",
       "  margin: -1px;\n",
       "  overflow: hidden;\n",
       "  padding: 0;\n",
       "  position: absolute;\n",
       "  width: 1px;\n",
       "}\n",
       "\n",
       "#sk-container-id-4 div.sk-dashed-wrapped {\n",
       "  border: 1px dashed var(--sklearn-color-line);\n",
       "  margin: 0 0.4em 0.5em 0.4em;\n",
       "  box-sizing: border-box;\n",
       "  padding-bottom: 0.4em;\n",
       "  background-color: var(--sklearn-color-background);\n",
       "}\n",
       "\n",
       "#sk-container-id-4 div.sk-container {\n",
       "  /* jupyter's `normalize.less` sets `[hidden] { display: none; }`\n",
       "     but bootstrap.min.css set `[hidden] { display: none !important; }`\n",
       "     so we also need the `!important` here to be able to override the\n",
       "     default hidden behavior on the sphinx rendered scikit-learn.org.\n",
       "     See: https://github.com/scikit-learn/scikit-learn/issues/21755 */\n",
       "  display: inline-block !important;\n",
       "  position: relative;\n",
       "}\n",
       "\n",
       "#sk-container-id-4 div.sk-text-repr-fallback {\n",
       "  display: none;\n",
       "}\n",
       "\n",
       "div.sk-parallel-item,\n",
       "div.sk-serial,\n",
       "div.sk-item {\n",
       "  /* draw centered vertical line to link estimators */\n",
       "  background-image: linear-gradient(var(--sklearn-color-text-on-default-background), var(--sklearn-color-text-on-default-background));\n",
       "  background-size: 2px 100%;\n",
       "  background-repeat: no-repeat;\n",
       "  background-position: center center;\n",
       "}\n",
       "\n",
       "/* Parallel-specific style estimator block */\n",
       "\n",
       "#sk-container-id-4 div.sk-parallel-item::after {\n",
       "  content: \"\";\n",
       "  width: 100%;\n",
       "  border-bottom: 2px solid var(--sklearn-color-text-on-default-background);\n",
       "  flex-grow: 1;\n",
       "}\n",
       "\n",
       "#sk-container-id-4 div.sk-parallel {\n",
       "  display: flex;\n",
       "  align-items: stretch;\n",
       "  justify-content: center;\n",
       "  background-color: var(--sklearn-color-background);\n",
       "  position: relative;\n",
       "}\n",
       "\n",
       "#sk-container-id-4 div.sk-parallel-item {\n",
       "  display: flex;\n",
       "  flex-direction: column;\n",
       "}\n",
       "\n",
       "#sk-container-id-4 div.sk-parallel-item:first-child::after {\n",
       "  align-self: flex-end;\n",
       "  width: 50%;\n",
       "}\n",
       "\n",
       "#sk-container-id-4 div.sk-parallel-item:last-child::after {\n",
       "  align-self: flex-start;\n",
       "  width: 50%;\n",
       "}\n",
       "\n",
       "#sk-container-id-4 div.sk-parallel-item:only-child::after {\n",
       "  width: 0;\n",
       "}\n",
       "\n",
       "/* Serial-specific style estimator block */\n",
       "\n",
       "#sk-container-id-4 div.sk-serial {\n",
       "  display: flex;\n",
       "  flex-direction: column;\n",
       "  align-items: center;\n",
       "  background-color: var(--sklearn-color-background);\n",
       "  padding-right: 1em;\n",
       "  padding-left: 1em;\n",
       "}\n",
       "\n",
       "\n",
       "/* Toggleable style: style used for estimator/Pipeline/ColumnTransformer box that is\n",
       "clickable and can be expanded/collapsed.\n",
       "- Pipeline and ColumnTransformer use this feature and define the default style\n",
       "- Estimators will overwrite some part of the style using the `sk-estimator` class\n",
       "*/\n",
       "\n",
       "/* Pipeline and ColumnTransformer style (default) */\n",
       "\n",
       "#sk-container-id-4 div.sk-toggleable {\n",
       "  /* Default theme specific background. It is overwritten whether we have a\n",
       "  specific estimator or a Pipeline/ColumnTransformer */\n",
       "  background-color: var(--sklearn-color-background);\n",
       "}\n",
       "\n",
       "/* Toggleable label */\n",
       "#sk-container-id-4 label.sk-toggleable__label {\n",
       "  cursor: pointer;\n",
       "  display: block;\n",
       "  width: 100%;\n",
       "  margin-bottom: 0;\n",
       "  padding: 0.5em;\n",
       "  box-sizing: border-box;\n",
       "  text-align: center;\n",
       "}\n",
       "\n",
       "#sk-container-id-4 label.sk-toggleable__label-arrow:before {\n",
       "  /* Arrow on the left of the label */\n",
       "  content: \"▸\";\n",
       "  float: left;\n",
       "  margin-right: 0.25em;\n",
       "  color: var(--sklearn-color-icon);\n",
       "}\n",
       "\n",
       "#sk-container-id-4 label.sk-toggleable__label-arrow:hover:before {\n",
       "  color: var(--sklearn-color-text);\n",
       "}\n",
       "\n",
       "/* Toggleable content - dropdown */\n",
       "\n",
       "#sk-container-id-4 div.sk-toggleable__content {\n",
       "  max-height: 0;\n",
       "  max-width: 0;\n",
       "  overflow: hidden;\n",
       "  text-align: left;\n",
       "  /* unfitted */\n",
       "  background-color: var(--sklearn-color-unfitted-level-0);\n",
       "}\n",
       "\n",
       "#sk-container-id-4 div.sk-toggleable__content.fitted {\n",
       "  /* fitted */\n",
       "  background-color: var(--sklearn-color-fitted-level-0);\n",
       "}\n",
       "\n",
       "#sk-container-id-4 div.sk-toggleable__content pre {\n",
       "  margin: 0.2em;\n",
       "  border-radius: 0.25em;\n",
       "  color: var(--sklearn-color-text);\n",
       "  /* unfitted */\n",
       "  background-color: var(--sklearn-color-unfitted-level-0);\n",
       "}\n",
       "\n",
       "#sk-container-id-4 div.sk-toggleable__content.fitted pre {\n",
       "  /* unfitted */\n",
       "  background-color: var(--sklearn-color-fitted-level-0);\n",
       "}\n",
       "\n",
       "#sk-container-id-4 input.sk-toggleable__control:checked~div.sk-toggleable__content {\n",
       "  /* Expand drop-down */\n",
       "  max-height: 200px;\n",
       "  max-width: 100%;\n",
       "  overflow: auto;\n",
       "}\n",
       "\n",
       "#sk-container-id-4 input.sk-toggleable__control:checked~label.sk-toggleable__label-arrow:before {\n",
       "  content: \"▾\";\n",
       "}\n",
       "\n",
       "/* Pipeline/ColumnTransformer-specific style */\n",
       "\n",
       "#sk-container-id-4 div.sk-label input.sk-toggleable__control:checked~label.sk-toggleable__label {\n",
       "  color: var(--sklearn-color-text);\n",
       "  background-color: var(--sklearn-color-unfitted-level-2);\n",
       "}\n",
       "\n",
       "#sk-container-id-4 div.sk-label.fitted input.sk-toggleable__control:checked~label.sk-toggleable__label {\n",
       "  background-color: var(--sklearn-color-fitted-level-2);\n",
       "}\n",
       "\n",
       "/* Estimator-specific style */\n",
       "\n",
       "/* Colorize estimator box */\n",
       "#sk-container-id-4 div.sk-estimator input.sk-toggleable__control:checked~label.sk-toggleable__label {\n",
       "  /* unfitted */\n",
       "  background-color: var(--sklearn-color-unfitted-level-2);\n",
       "}\n",
       "\n",
       "#sk-container-id-4 div.sk-estimator.fitted input.sk-toggleable__control:checked~label.sk-toggleable__label {\n",
       "  /* fitted */\n",
       "  background-color: var(--sklearn-color-fitted-level-2);\n",
       "}\n",
       "\n",
       "#sk-container-id-4 div.sk-label label.sk-toggleable__label,\n",
       "#sk-container-id-4 div.sk-label label {\n",
       "  /* The background is the default theme color */\n",
       "  color: var(--sklearn-color-text-on-default-background);\n",
       "}\n",
       "\n",
       "/* On hover, darken the color of the background */\n",
       "#sk-container-id-4 div.sk-label:hover label.sk-toggleable__label {\n",
       "  color: var(--sklearn-color-text);\n",
       "  background-color: var(--sklearn-color-unfitted-level-2);\n",
       "}\n",
       "\n",
       "/* Label box, darken color on hover, fitted */\n",
       "#sk-container-id-4 div.sk-label.fitted:hover label.sk-toggleable__label.fitted {\n",
       "  color: var(--sklearn-color-text);\n",
       "  background-color: var(--sklearn-color-fitted-level-2);\n",
       "}\n",
       "\n",
       "/* Estimator label */\n",
       "\n",
       "#sk-container-id-4 div.sk-label label {\n",
       "  font-family: monospace;\n",
       "  font-weight: bold;\n",
       "  display: inline-block;\n",
       "  line-height: 1.2em;\n",
       "}\n",
       "\n",
       "#sk-container-id-4 div.sk-label-container {\n",
       "  text-align: center;\n",
       "}\n",
       "\n",
       "/* Estimator-specific */\n",
       "#sk-container-id-4 div.sk-estimator {\n",
       "  font-family: monospace;\n",
       "  border: 1px dotted var(--sklearn-color-border-box);\n",
       "  border-radius: 0.25em;\n",
       "  box-sizing: border-box;\n",
       "  margin-bottom: 0.5em;\n",
       "  /* unfitted */\n",
       "  background-color: var(--sklearn-color-unfitted-level-0);\n",
       "}\n",
       "\n",
       "#sk-container-id-4 div.sk-estimator.fitted {\n",
       "  /* fitted */\n",
       "  background-color: var(--sklearn-color-fitted-level-0);\n",
       "}\n",
       "\n",
       "/* on hover */\n",
       "#sk-container-id-4 div.sk-estimator:hover {\n",
       "  /* unfitted */\n",
       "  background-color: var(--sklearn-color-unfitted-level-2);\n",
       "}\n",
       "\n",
       "#sk-container-id-4 div.sk-estimator.fitted:hover {\n",
       "  /* fitted */\n",
       "  background-color: var(--sklearn-color-fitted-level-2);\n",
       "}\n",
       "\n",
       "/* Specification for estimator info (e.g. \"i\" and \"?\") */\n",
       "\n",
       "/* Common style for \"i\" and \"?\" */\n",
       "\n",
       ".sk-estimator-doc-link,\n",
       "a:link.sk-estimator-doc-link,\n",
       "a:visited.sk-estimator-doc-link {\n",
       "  float: right;\n",
       "  font-size: smaller;\n",
       "  line-height: 1em;\n",
       "  font-family: monospace;\n",
       "  background-color: var(--sklearn-color-background);\n",
       "  border-radius: 1em;\n",
       "  height: 1em;\n",
       "  width: 1em;\n",
       "  text-decoration: none !important;\n",
       "  margin-left: 1ex;\n",
       "  /* unfitted */\n",
       "  border: var(--sklearn-color-unfitted-level-1) 1pt solid;\n",
       "  color: var(--sklearn-color-unfitted-level-1);\n",
       "}\n",
       "\n",
       ".sk-estimator-doc-link.fitted,\n",
       "a:link.sk-estimator-doc-link.fitted,\n",
       "a:visited.sk-estimator-doc-link.fitted {\n",
       "  /* fitted */\n",
       "  border: var(--sklearn-color-fitted-level-1) 1pt solid;\n",
       "  color: var(--sklearn-color-fitted-level-1);\n",
       "}\n",
       "\n",
       "/* On hover */\n",
       "div.sk-estimator:hover .sk-estimator-doc-link:hover,\n",
       ".sk-estimator-doc-link:hover,\n",
       "div.sk-label-container:hover .sk-estimator-doc-link:hover,\n",
       ".sk-estimator-doc-link:hover {\n",
       "  /* unfitted */\n",
       "  background-color: var(--sklearn-color-unfitted-level-3);\n",
       "  color: var(--sklearn-color-background);\n",
       "  text-decoration: none;\n",
       "}\n",
       "\n",
       "div.sk-estimator.fitted:hover .sk-estimator-doc-link.fitted:hover,\n",
       ".sk-estimator-doc-link.fitted:hover,\n",
       "div.sk-label-container:hover .sk-estimator-doc-link.fitted:hover,\n",
       ".sk-estimator-doc-link.fitted:hover {\n",
       "  /* fitted */\n",
       "  background-color: var(--sklearn-color-fitted-level-3);\n",
       "  color: var(--sklearn-color-background);\n",
       "  text-decoration: none;\n",
       "}\n",
       "\n",
       "/* Span, style for the box shown on hovering the info icon */\n",
       ".sk-estimator-doc-link span {\n",
       "  display: none;\n",
       "  z-index: 9999;\n",
       "  position: relative;\n",
       "  font-weight: normal;\n",
       "  right: .2ex;\n",
       "  padding: .5ex;\n",
       "  margin: .5ex;\n",
       "  width: min-content;\n",
       "  min-width: 20ex;\n",
       "  max-width: 50ex;\n",
       "  color: var(--sklearn-color-text);\n",
       "  box-shadow: 2pt 2pt 4pt #999;\n",
       "  /* unfitted */\n",
       "  background: var(--sklearn-color-unfitted-level-0);\n",
       "  border: .5pt solid var(--sklearn-color-unfitted-level-3);\n",
       "}\n",
       "\n",
       ".sk-estimator-doc-link.fitted span {\n",
       "  /* fitted */\n",
       "  background: var(--sklearn-color-fitted-level-0);\n",
       "  border: var(--sklearn-color-fitted-level-3);\n",
       "}\n",
       "\n",
       ".sk-estimator-doc-link:hover span {\n",
       "  display: block;\n",
       "}\n",
       "\n",
       "/* \"?\"-specific style due to the `<a>` HTML tag */\n",
       "\n",
       "#sk-container-id-4 a.estimator_doc_link {\n",
       "  float: right;\n",
       "  font-size: 1rem;\n",
       "  line-height: 1em;\n",
       "  font-family: monospace;\n",
       "  background-color: var(--sklearn-color-background);\n",
       "  border-radius: 1rem;\n",
       "  height: 1rem;\n",
       "  width: 1rem;\n",
       "  text-decoration: none;\n",
       "  /* unfitted */\n",
       "  color: var(--sklearn-color-unfitted-level-1);\n",
       "  border: var(--sklearn-color-unfitted-level-1) 1pt solid;\n",
       "}\n",
       "\n",
       "#sk-container-id-4 a.estimator_doc_link.fitted {\n",
       "  /* fitted */\n",
       "  border: var(--sklearn-color-fitted-level-1) 1pt solid;\n",
       "  color: var(--sklearn-color-fitted-level-1);\n",
       "}\n",
       "\n",
       "/* On hover */\n",
       "#sk-container-id-4 a.estimator_doc_link:hover {\n",
       "  /* unfitted */\n",
       "  background-color: var(--sklearn-color-unfitted-level-3);\n",
       "  color: var(--sklearn-color-background);\n",
       "  text-decoration: none;\n",
       "}\n",
       "\n",
       "#sk-container-id-4 a.estimator_doc_link.fitted:hover {\n",
       "  /* fitted */\n",
       "  background-color: var(--sklearn-color-fitted-level-3);\n",
       "}\n",
       "</style><div id=\"sk-container-id-4\" class=\"sk-top-container\"><div class=\"sk-text-repr-fallback\"><pre>LinearRegression()</pre><b>In a Jupyter environment, please rerun this cell to show the HTML representation or trust the notebook. <br />On GitHub, the HTML representation is unable to render, please try loading this page with nbviewer.org.</b></div><div class=\"sk-container\" hidden><div class=\"sk-item\"><div class=\"sk-estimator fitted sk-toggleable\"><input class=\"sk-toggleable__control sk-hidden--visually\" id=\"sk-estimator-id-4\" type=\"checkbox\" checked><label for=\"sk-estimator-id-4\" class=\"sk-toggleable__label fitted sk-toggleable__label-arrow fitted\">&nbsp;&nbsp;LinearRegression<a class=\"sk-estimator-doc-link fitted\" rel=\"noreferrer\" target=\"_blank\" href=\"https://scikit-learn.org/1.5/modules/generated/sklearn.linear_model.LinearRegression.html\">?<span>Documentation for LinearRegression</span></a><span class=\"sk-estimator-doc-link fitted\">i<span>Fitted</span></span></label><div class=\"sk-toggleable__content fitted\"><pre>LinearRegression()</pre></div> </div></div></div></div>"
      ],
      "text/plain": [
       "LinearRegression()"
      ]
     },
     "execution_count": 114,
     "metadata": {},
     "output_type": "execute_result"
    }
   ],
   "source": [
    "regression.fit(X_train,y_train)"
   ]
  },
  {
   "cell_type": "code",
   "execution_count": 115,
   "metadata": {},
   "outputs": [
    {
     "name": "stdout",
     "output_type": "stream",
     "text": [
      "Cofficent or slope: [17.03440872]\n",
      "Intercept: 157.5\n"
     ]
    }
   ],
   "source": [
    "print(\"Cofficent or slope:\",regression.coef_)\n",
    "print(\"Intercept:\",regression.intercept_)"
   ]
  },
  {
   "cell_type": "code",
   "execution_count": 116,
   "metadata": {},
   "outputs": [],
   "source": [
    "y_pred_train=regression.predict(X_train)"
   ]
  },
  {
   "cell_type": "code",
   "execution_count": 117,
   "metadata": {},
   "outputs": [
    {
     "data": {
      "text/plain": [
       "[<matplotlib.lines.Line2D at 0x238fadc8680>]"
      ]
     },
     "execution_count": 117,
     "metadata": {},
     "output_type": "execute_result"
    },
    {
     "data": {
      "image/png": "[encoded data removed]",
      "text/plain": [
       "<Figure size 640x480 with 1 Axes>"
      ]
     },
     "metadata": {},
     "output_type": "display_data"
    }
   ],
   "source": [
    "## plot training data plot best fit line\n",
    "plt.scatter(X_train,y_train)\n",
    "plt.plot(X_train,y_pred_train) # best fitting line"
   ]
  },
  {
   "cell_type": "markdown",
   "metadata": {},
   "source": [
    "## prediction of test data\n",
    "1.predicted height output=intercept+coef_(Weights)\n",
    "\n",
    "2.y_pred=156.470+17.29(X_test)"
   ]
  },
  {
   "cell_type": "code",
   "execution_count": 118,
   "metadata": {},
   "outputs": [
    {
     "data": {
      "text/plain": [
       "15    177\n",
       "9     170\n",
       "0     120\n",
       "8     182\n",
       "17    159\n",
       "Name: Height, dtype: int64"
      ]
     },
     "execution_count": 118,
     "metadata": {},
     "output_type": "execute_result"
    }
   ],
   "source": [
    "y_test"
   ]
  },
  {
   "cell_type": "code",
   "execution_count": 119,
   "metadata": {},
   "outputs": [],
   "source": [
    "## Prediction for test data\n",
    "y_pred=regression.predict(X_test)"
   ]
  },
  {
   "cell_type": "code",
   "execution_count": 120,
   "metadata": {},
   "outputs": [
    {
     "data": {
      "text/plain": [
       "[<matplotlib.lines.Line2D at 0x238fb177860>]"
      ]
     },
     "execution_count": 120,
     "metadata": {},
     "output_type": "execute_result"
    },
    {
     "data": {
      "image/png": "[encoded data removed]",
      "text/plain": [
       "<Figure size 640x480 with 1 Axes>"
      ]
     },
     "metadata": {},
     "output_type": "display_data"
    }
   ],
   "source": [
    "plt.scatter(X_test,y_test)\n",
    "plt.plot(X_test,y_pred)"
   ]
  },
  {
   "cell_type": "code",
   "execution_count": 121,
   "metadata": {},
   "outputs": [],
   "source": [
    "## Performance metrics\n",
    "from sklearn.metrics import mean_squared_error,mean_absolute_error"
   ]
  },
  {
   "cell_type": "code",
   "execution_count": 122,
   "metadata": {},
   "outputs": [
    {
     "name": "stdout",
     "output_type": "stream",
     "text": [
      "109.77592599051664\n",
      "9.822657814519232\n",
      "10.477400726827081\n"
     ]
    }
   ],
   "source": [
    "mse=mean_squared_error(y_test,y_pred)\n",
    "mae=mean_absolute_error(y_test,y_pred)\n",
    "rmse=np.sqrt(mse)\n",
    "print(mse)\n",
    "print(mae)\n",
    "print(rmse)\n"
   ]
  },
  {
   "attachments": {
    "image.png": {
     "image/png": "[encoded data removed]"
    }
   },
   "cell_type": "markdown",
   "metadata": {},
   "source": [
    "![image.png](attachment:image.png)"
   ]
  },
  {
   "cell_type": "code",
   "execution_count": 123,
   "metadata": {},
   "outputs": [],
   "source": [
    "from sklearn.metrics import r2_score"
   ]
  },
  {
   "cell_type": "code",
   "execution_count": 125,
   "metadata": {},
   "outputs": [
    {
     "name": "stdout",
     "output_type": "stream",
     "text": [
      "0.776986986042344\n"
     ]
    }
   ],
   "source": [
    "score=r2_score(y_test,y_pred)\n",
    "print(score)"
   ]
  },
  {
   "attachments": {
    "image.png": {
     "image/png": "[encoded data removed]"
    }
   },
   "cell_type": "markdown",
   "metadata": {},
   "source": [
    "![image.png](attachment:image.png)"
   ]
  },
  {
   "cell_type": "code",
   "execution_count": 127,
   "metadata": {},
   "outputs": [
    {
     "data": {
      "text/plain": [
       "0.7026493147231252"
      ]
     },
     "execution_count": 127,
     "metadata": {},
     "output_type": "execute_result"
    }
   ],
   "source": [
    "#display adjusted R-squared\n",
    "1 - (1-score)*(len(y_test)-1)/(len(y_test)-X_test.shape[1]-1)\n"
   ]
  },
  {
   "cell_type": "code",
   "execution_count": 131,
   "metadata": {},
   "outputs": [
    {
     "name": "stdout",
     "output_type": "stream",
     "text": [
      "Collecting statsmodelsNote: you may need to restart the kernel to use updated packages.\n",
      "\n",
      "  Downloading statsmodels-0.14.2-cp312-cp312-win_amd64.whl.metadata (9.5 kB)\n",
      "Requirement already satisfied: numpy>=1.22.3 in c:\\users\\ashish\\appdata\\roaming\\python\\python312\\site-packages (from statsmodels) (1.26.3)\n",
      "Requirement already satisfied: scipy!=1.9.2,>=1.8 in c:\\users\\ashish\\appdata\\roaming\\python\\python312\\site-packages (from statsmodels) (1.13.0)\n",
      "Requirement already satisfied: pandas!=2.1.0,>=1.4 in c:\\users\\ashish\\appdata\\roaming\\python\\python312\\site-packages (from statsmodels) (2.2.0)\n",
      "Collecting patsy>=0.5.6 (from statsmodels)\n",
      "  Downloading patsy-0.5.6-py2.py3-none-any.whl.metadata (3.5 kB)\n",
      "Requirement already satisfied: packaging>=21.3 in c:\\users\\ashish\\appdata\\roaming\\python\\python312\\site-packages (from statsmodels) (23.2)\n",
      "Requirement already satisfied: python-dateutil>=2.8.2 in c:\\users\\ashish\\appdata\\roaming\\python\\python312\\site-packages (from pandas!=2.1.0,>=1.4->statsmodels) (2.8.2)\n",
      "Requirement already satisfied: pytz>=2020.1 in c:\\users\\ashish\\appdata\\roaming\\python\\python312\\site-packages (from pandas!=2.1.0,>=1.4->statsmodels) (2023.4)\n",
      "Requirement already satisfied: tzdata>=2022.7 in c:\\users\\ashish\\appdata\\roaming\\python\\python312\\site-packages (from pandas!=2.1.0,>=1.4->statsmodels) (2023.4)\n",
      "Requirement already satisfied: six in c:\\users\\ashish\\appdata\\roaming\\python\\python312\\site-packages (from patsy>=0.5.6->statsmodels) (1.16.0)\n",
      "Downloading statsmodels-0.14.2-cp312-cp312-win_amd64.whl (9.8 MB)\n",
      "   ---------------------------------------- 0.0/9.8 MB ? eta -:--:--\n",
      "   ---------------------------------------- 0.0/9.8 MB ? eta -:--:--\n",
      "   ---------------------------------------- 0.0/9.8 MB ? eta -:--:--\n",
      "   ---------------------------------------- 0.0/9.8 MB 393.8 kB/s eta 0:00:25\n",
      "    --------------------------------------- 0.1/9.8 MB 798.9 kB/s eta 0:00:13\n",
      "    --------------------------------------- 0.2/9.8 MB 1.3 MB/s eta 0:00:08\n",
      "   - -------------------------------------- 0.3/9.8 MB 1.4 MB/s eta 0:00:08\n",
      "   - -------------------------------------- 0.4/9.8 MB 1.6 MB/s eta 0:00:06\n",
      "   - -------------------------------------- 0.5/9.8 MB 1.6 MB/s eta 0:00:06\n",
      "   - -------------------------------------- 0.5/9.8 MB 1.6 MB/s eta 0:00:06\n",
      "   - -------------------------------------- 0.5/9.8 MB 1.6 MB/s eta 0:00:06\n",
      "   - -------------------------------------- 0.5/9.8 MB 1.6 MB/s eta 0:00:06\n",
      "   ---- ----------------------------------- 1.0/9.8 MB 2.0 MB/s eta 0:00:05\n",
      "   ---- ----------------------------------- 1.1/9.8 MB 2.0 MB/s eta 0:00:05\n",
      "   ---- ----------------------------------- 1.2/9.8 MB 2.1 MB/s eta 0:00:05\n",
      "   ----- ---------------------------------- 1.3/9.8 MB 2.1 MB/s eta 0:00:05\n",
      "   ----- ---------------------------------- 1.4/9.8 MB 2.1 MB/s eta 0:00:04\n",
      "   ------ --------------------------------- 1.6/9.8 MB 2.2 MB/s eta 0:00:04\n",
      "   ------ --------------------------------- 1.7/9.8 MB 2.2 MB/s eta 0:00:04\n",
      "   ------- -------------------------------- 1.8/9.8 MB 2.2 MB/s eta 0:00:04\n",
      "   ------- -------------------------------- 1.9/9.8 MB 2.2 MB/s eta 0:00:04\n",
      "   -------- ------------------------------- 2.0/9.8 MB 2.2 MB/s eta 0:00:04\n",
      "   -------- ------------------------------- 2.0/9.8 MB 2.2 MB/s eta 0:00:04\n",
      "   --------- ------------------------------ 2.3/9.8 MB 2.2 MB/s eta 0:00:04\n",
      "   --------- ------------------------------ 2.4/9.8 MB 2.3 MB/s eta 0:00:04\n",
      "   ---------- ----------------------------- 2.5/9.8 MB 2.2 MB/s eta 0:00:04\n",
      "   ---------- ----------------------------- 2.6/9.8 MB 2.3 MB/s eta 0:00:04\n",
      "   ----------- ---------------------------- 2.7/9.8 MB 2.3 MB/s eta 0:00:04\n",
      "   ----------- ---------------------------- 2.8/9.8 MB 2.3 MB/s eta 0:00:04\n",
      "   ------------ --------------------------- 3.0/9.8 MB 2.3 MB/s eta 0:00:03\n",
      "   ------------ --------------------------- 3.0/9.8 MB 2.3 MB/s eta 0:00:03\n",
      "   ------------ --------------------------- 3.2/9.8 MB 2.3 MB/s eta 0:00:03\n",
      "   ------------- -------------------------- 3.3/9.8 MB 2.3 MB/s eta 0:00:03\n",
      "   ------------- -------------------------- 3.4/9.8 MB 2.3 MB/s eta 0:00:03\n",
      "   -------------- ------------------------- 3.5/9.8 MB 2.3 MB/s eta 0:00:03\n",
      "   -------------- ------------------------- 3.6/9.8 MB 2.3 MB/s eta 0:00:03\n",
      "   --------------- ------------------------ 3.7/9.8 MB 2.3 MB/s eta 0:00:03\n",
      "   --------------- ------------------------ 3.9/9.8 MB 2.3 MB/s eta 0:00:03\n",
      "   ---------------- ----------------------- 4.0/9.8 MB 2.3 MB/s eta 0:00:03\n",
      "   ---------------- ----------------------- 4.0/9.8 MB 2.3 MB/s eta 0:00:03\n",
      "   ----------------- ---------------------- 4.2/9.8 MB 2.3 MB/s eta 0:00:03\n",
      "   ----------------- ---------------------- 4.3/9.8 MB 2.3 MB/s eta 0:00:03\n",
      "   ----------------- ---------------------- 4.4/9.8 MB 2.4 MB/s eta 0:00:03\n",
      "   ------------------ --------------------- 4.5/9.8 MB 2.3 MB/s eta 0:00:03\n",
      "   ------------------ --------------------- 4.5/9.8 MB 2.3 MB/s eta 0:00:03\n",
      "   ------------------- -------------------- 4.7/9.8 MB 2.4 MB/s eta 0:00:03\n",
      "   ------------------- -------------------- 4.8/9.8 MB 2.3 MB/s eta 0:00:03\n",
      "   -------------------- ------------------- 4.9/9.8 MB 2.4 MB/s eta 0:00:03\n",
      "   -------------------- ------------------- 5.0/9.8 MB 2.3 MB/s eta 0:00:03\n",
      "   -------------------- ------------------- 5.2/9.8 MB 2.3 MB/s eta 0:00:02\n",
      "   --------------------- ------------------ 5.3/9.8 MB 2.4 MB/s eta 0:00:02\n",
      "   --------------------- ------------------ 5.4/9.8 MB 2.4 MB/s eta 0:00:02\n",
      "   ---------------------- ----------------- 5.5/9.8 MB 2.4 MB/s eta 0:00:02\n",
      "   ---------------------- ----------------- 5.6/9.8 MB 2.4 MB/s eta 0:00:02\n",
      "   ----------------------- ---------------- 5.7/9.8 MB 2.4 MB/s eta 0:00:02\n",
      "   ----------------------- ---------------- 5.7/9.8 MB 2.4 MB/s eta 0:00:02\n",
      "   ------------------------ --------------- 5.9/9.8 MB 2.4 MB/s eta 0:00:02\n",
      "   ------------------------ --------------- 6.1/9.8 MB 2.4 MB/s eta 0:00:02\n",
      "   ------------------------ --------------- 6.1/9.8 MB 2.4 MB/s eta 0:00:02\n",
      "   ------------------------- -------------- 6.3/9.8 MB 2.4 MB/s eta 0:00:02\n",
      "   ------------------------- -------------- 6.3/9.8 MB 2.4 MB/s eta 0:00:02\n",
      "   ------------------------- -------------- 6.3/9.8 MB 2.4 MB/s eta 0:00:02\n",
      "   -------------------------- ------------- 6.5/9.8 MB 2.3 MB/s eta 0:00:02\n",
      "   -------------------------- ------------- 6.5/9.8 MB 2.3 MB/s eta 0:00:02\n",
      "   -------------------------- ------------- 6.6/9.8 MB 2.3 MB/s eta 0:00:02\n",
      "   --------------------------- ------------ 6.7/9.8 MB 2.3 MB/s eta 0:00:02\n",
      "   ---------------------------- ----------- 6.9/9.8 MB 2.3 MB/s eta 0:00:02\n",
      "   ---------------------------- ----------- 6.9/9.8 MB 2.3 MB/s eta 0:00:02\n",
      "   ---------------------------- ----------- 6.9/9.8 MB 2.3 MB/s eta 0:00:02\n",
      "   ---------------------------- ----------- 7.1/9.8 MB 2.3 MB/s eta 0:00:02\n",
      "   ----------------------------- ---------- 7.1/9.8 MB 2.3 MB/s eta 0:00:02\n",
      "   ----------------------------- ---------- 7.3/9.8 MB 2.3 MB/s eta 0:00:02\n",
      "   ----------------------------- ---------- 7.3/9.8 MB 2.3 MB/s eta 0:00:02\n",
      "   ------------------------------ --------- 7.5/9.8 MB 2.3 MB/s eta 0:00:02\n",
      "   ------------------------------ --------- 7.5/9.8 MB 2.3 MB/s eta 0:00:02\n",
      "   ------------------------------ --------- 7.5/9.8 MB 2.3 MB/s eta 0:00:02\n",
      "   ------------------------------- -------- 7.7/9.8 MB 2.3 MB/s eta 0:00:01\n",
      "   ------------------------------- -------- 7.7/9.8 MB 2.3 MB/s eta 0:00:01\n",
      "   ------------------------------- -------- 7.7/9.8 MB 2.3 MB/s eta 0:00:01\n",
      "   ------------------------------- -------- 7.7/9.8 MB 2.3 MB/s eta 0:00:01\n",
      "   ------------------------------- -------- 7.7/9.8 MB 2.3 MB/s eta 0:00:01\n",
      "   ------------------------------- -------- 7.7/9.8 MB 2.3 MB/s eta 0:00:01\n",
      "   ------------------------------- -------- 7.7/9.8 MB 2.3 MB/s eta 0:00:01\n",
      "   ------------------------------- -------- 7.7/9.8 MB 2.3 MB/s eta 0:00:01\n",
      "   ------------------------------- -------- 7.7/9.8 MB 2.0 MB/s eta 0:00:02\n",
      "   ------------------------------- -------- 7.8/9.8 MB 2.0 MB/s eta 0:00:02\n",
      "   ------------------------------- -------- 7.8/9.8 MB 2.0 MB/s eta 0:00:01\n",
      "   ------------------------------- -------- 7.8/9.8 MB 2.0 MB/s eta 0:00:01\n",
      "   ------------------------------- -------- 7.8/9.8 MB 2.0 MB/s eta 0:00:01\n",
      "   -------------------------------- ------- 8.0/9.8 MB 2.0 MB/s eta 0:00:01\n",
      "   -------------------------------- ------- 8.1/9.8 MB 2.0 MB/s eta 0:00:01\n",
      "   --------------------------------- ------ 8.2/9.8 MB 2.0 MB/s eta 0:00:01\n",
      "   --------------------------------- ------ 8.2/9.8 MB 2.0 MB/s eta 0:00:01\n",
      "   ---------------------------------- ----- 8.4/9.8 MB 2.0 MB/s eta 0:00:01\n",
      "   ---------------------------------- ----- 8.4/9.8 MB 2.0 MB/s eta 0:00:01\n",
      "   ---------------------------------- ----- 8.4/9.8 MB 2.0 MB/s eta 0:00:01\n",
      "   ----------------------------------- ---- 8.6/9.8 MB 2.0 MB/s eta 0:00:01\n",
      "   ----------------------------------- ---- 8.7/9.8 MB 2.0 MB/s eta 0:00:01\n",
      "   ----------------------------------- ---- 8.8/9.8 MB 2.0 MB/s eta 0:00:01\n",
      "   ------------------------------------ --- 8.9/9.8 MB 2.0 MB/s eta 0:00:01\n",
      "   ------------------------------------ --- 9.0/9.8 MB 2.0 MB/s eta 0:00:01\n",
      "   ------------------------------------ --- 9.0/9.8 MB 2.0 MB/s eta 0:00:01\n",
      "   ------------------------------------ --- 9.0/9.8 MB 2.0 MB/s eta 0:00:01\n",
      "   ------------------------------------- -- 9.2/9.8 MB 2.0 MB/s eta 0:00:01\n",
      "   ------------------------------------- -- 9.2/9.8 MB 2.0 MB/s eta 0:00:01\n",
      "   ------------------------------------- -- 9.2/9.8 MB 2.0 MB/s eta 0:00:01\n",
      "   ------------------------------------- -- 9.2/9.8 MB 2.0 MB/s eta 0:00:01\n",
      "   ------------------------------------- -- 9.2/9.8 MB 2.0 MB/s eta 0:00:01\n",
      "   ------------------------------------- -- 9.2/9.8 MB 2.0 MB/s eta 0:00:01\n",
      "   ------------------------------------- -- 9.2/9.8 MB 2.0 MB/s eta 0:00:01\n",
      "   ------------------------------------- -- 9.2/9.8 MB 2.0 MB/s eta 0:00:01\n",
      "   ------------------------------------- -- 9.2/9.8 MB 2.0 MB/s eta 0:00:01\n",
      "   ------------------------------------- -- 9.2/9.8 MB 1.8 MB/s eta 0:00:01\n",
      "   ------------------------------------- -- 9.2/9.8 MB 1.8 MB/s eta 0:00:01\n",
      "   ------------------------------------- -- 9.2/9.8 MB 1.8 MB/s eta 0:00:01\n",
      "   ------------------------------------- -- 9.2/9.8 MB 1.8 MB/s eta 0:00:01\n",
      "   -------------------------------------- - 9.4/9.8 MB 1.8 MB/s eta 0:00:01\n",
      "   -------------------------------------- - 9.6/9.8 MB 1.8 MB/s eta 0:00:01\n",
      "   ---------------------------------------  9.6/9.8 MB 1.8 MB/s eta 0:00:01\n",
      "   ---------------------------------------  9.7/9.8 MB 1.8 MB/s eta 0:00:01\n",
      "   ---------------------------------------  9.8/9.8 MB 1.8 MB/s eta 0:00:01\n",
      "   ---------------------------------------- 9.8/9.8 MB 1.8 MB/s eta 0:00:00\n",
      "Downloading patsy-0.5.6-py2.py3-none-any.whl (233 kB)\n",
      "   ---------------------------------------- 0.0/233.9 kB ? eta -:--:--\n",
      "   ------------------------------------ --- 215.0/233.9 kB ? eta -:--:--\n",
      "   ---------------------------------------- 233.9/233.9 kB 3.6 MB/s eta 0:00:00\n",
      "Installing collected packages: patsy, statsmodels\n",
      "Successfully installed patsy-0.5.6 statsmodels-0.14.2\n"
     ]
    }
   ],
   "source": [
    "pip install statsmodels"
   ]
  },
  {
   "cell_type": "code",
   "execution_count": 132,
   "metadata": {},
   "outputs": [],
   "source": [
    "## ols linear Regression\n",
    "import statsmodels.api as sm"
   ]
  },
  {
   "cell_type": "code",
   "execution_count": 133,
   "metadata": {},
   "outputs": [],
   "source": [
    "model=sm.OLS(y_train,X_train).fit()"
   ]
  },
  {
   "cell_type": "code",
   "execution_count": 134,
   "metadata": {},
   "outputs": [
    {
     "name": "stdout",
     "output_type": "stream",
     "text": [
      "[  3.58467086   3.58467086 -28.1958439   19.95645118  -8.93492586]\n"
     ]
    }
   ],
   "source": [
    "prediction=model.predict(X_test)\n",
    "print(prediction)"
   ]
  },
  {
   "cell_type": "code",
   "execution_count": 135,
   "metadata": {},
   "outputs": [
    {
     "name": "stdout",
     "output_type": "stream",
     "text": [
      "                                 OLS Regression Results                                \n",
      "=======================================================================================\n",
      "Dep. Variable:                 Height   R-squared (uncentered):                   0.012\n",
      "Model:                            OLS   Adj. R-squared (uncentered):             -0.047\n",
      "Method:                 Least Squares   F-statistic:                             0.1986\n",
      "Date:                Thu, 13 Jun 2024   Prob (F-statistic):                       0.661\n",
      "Time:                        12:07:41   Log-Likelihood:                         -116.62\n",
      "No. Observations:                  18   AIC:                                      235.2\n",
      "Df Residuals:                      17   BIC:                                      236.1\n",
      "Df Model:                           1                                                  \n",
      "Covariance Type:            nonrobust                                                  \n",
      "==============================================================================\n",
      "                 coef    std err          t      P>|t|      [0.025      0.975]\n",
      "------------------------------------------------------------------------------\n",
      "x1            17.0344     38.226      0.446      0.661     -63.616      97.684\n",
      "==============================================================================\n",
      "Omnibus:                        0.849   Durbin-Watson:                   0.003\n",
      "Prob(Omnibus):                  0.654   Jarque-Bera (JB):                0.661\n",
      "Skew:                          -0.428   Prob(JB):                        0.718\n",
      "Kurtosis:                       2.614   Cond. No.                         1.00\n",
      "==============================================================================\n",
      "\n",
      "Notes:\n",
      "[1] R² is computed without centering (uncentered) since the model does not contain a constant.\n",
      "[2] Standard Errors assume that the covariance matrix of the errors is correctly specified.\n"
     ]
    },
    {
     "name": "stderr",
     "output_type": "stream",
     "text": [
      "C:\\Users\\ashish\\AppData\\Roaming\\Python\\Python312\\site-packages\\scipy\\stats\\_axis_nan_policy.py:531: UserWarning: kurtosistest only valid for n>=20 ... continuing anyway, n=18\n",
      "  res = hypotest_fun_out(*samples, **kwds)\n"
     ]
    }
   ],
   "source": [
    "print(model.summary())"
   ]
  },
  {
   "cell_type": "code",
   "execution_count": 136,
   "metadata": {},
   "outputs": [
    {
     "data": {
      "text/plain": [
       "array([17.03440872])"
      ]
     },
     "execution_count": 136,
     "metadata": {},
     "output_type": "execute_result"
    }
   ],
   "source": [
    "regression.coef_"
   ]
  },
  {
   "cell_type": "code",
   "execution_count": 138,
   "metadata": {},
   "outputs": [
    {
     "data": {
      "text/plain": [
       "array([1383.97742777])"
      ]
     },
     "execution_count": 138,
     "metadata": {},
     "output_type": "execute_result"
    }
   ],
   "source": [
    "## Prediction for new data\n",
    "regression.predict([[72]]) # we get this huge value of height because we dont standarise it"
   ]
  },
  {
   "cell_type": "code",
   "execution_count": 141,
   "metadata": {},
   "outputs": [
    {
     "name": "stdout",
     "output_type": "stream",
     "text": [
      "[155.30639545]\n"
     ]
    },
    {
     "name": "stderr",
     "output_type": "stream",
     "text": [
      "d:\\ML_WHOLE\\myVenv\\Lib\\site-packages\\sklearn\\base.py:493: UserWarning: X does not have valid feature names, but StandardScaler was fitted with feature names\n",
      "  warnings.warn(\n"
     ]
    }
   ],
   "source": [
    "# after standarise\n",
    "print(regression.predict(scaler.transform([[72]])))"
   ]
  },
  {
   "cell_type": "code",
   "execution_count": null,
   "metadata": {},
   "outputs": [],
   "source": []
  }
 ],
 "metadata": {
  "kernelspec": {
   "display_name": "Python 3",
   "language": "python",
   "name": "python3"
  },
  "language_info": {
   "codemirror_mode": {
    "name": "ipython",
    "version": 3
   },
   "file_extension": ".py",
   "mimetype": "text/x-python",
   "name": "python",
   "nbconvert_exporter": "python",
   "pygments_lexer": "ipython3",
   "version": "3.12.1"
  }
 },
 "nbformat": 4,
 "nbformat_minor": 2
}
